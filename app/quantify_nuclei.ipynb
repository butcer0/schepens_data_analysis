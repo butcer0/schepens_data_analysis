{
 "cells": [
  {
   "cell_type": "code",
   "execution_count": 267,
   "metadata": {
    "collapsed": true
   },
   "outputs": [],
   "source": [
    "import pandas as pd\n",
    "import matplotlib.pyplot as plt\n",
    "\n",
    "pd.set_option('display.precision', 3)\n",
    "pd.set_option('display.expand_frame_repr', False)\n",
    "pd.set_option('display.max_rows', 25)"
   ]
  },
  {
   "cell_type": "code",
   "source": [
    "excel_file_path = '../data/Results_Data_070420.xlsx'\n",
    "results_data = pd.read_excel(excel_file_path)\n",
    "results_data.head()"
   ],
   "metadata": {
    "collapsed": false,
    "pycharm": {
     "name": "#%%\n"
    }
   },
   "execution_count": 268,
   "outputs": [
    {
     "data": {
      "text/plain": "                                               Label  Count\n0  C1-20200629_CellROX Tgfb2 TNFa.lif - Positive ...      1\n1  C1-20200629_CellROX Tgfb2 TNFa.lif - Positive ...      0\n2  C1-20200629_CellROX Tgfb2 TNFa.lif - Positive ...      1\n3  C1-20200629_CellROX Tgfb2 TNFa.lif - Positive ...      0\n4  C1-20200629_CellROX Tgfb2 TNFa.lif - Positive ...      0",
      "text/html": "<div>\n<style scoped>\n    .dataframe tbody tr th:only-of-type {\n        vertical-align: middle;\n    }\n\n    .dataframe tbody tr th {\n        vertical-align: top;\n    }\n\n    .dataframe thead th {\n        text-align: right;\n    }\n</style>\n<table border=\"1\" class=\"dataframe\">\n  <thead>\n    <tr style=\"text-align: right;\">\n      <th></th>\n      <th>Label</th>\n      <th>Count</th>\n    </tr>\n  </thead>\n  <tbody>\n    <tr>\n      <th>0</th>\n      <td>C1-20200629_CellROX Tgfb2 TNFa.lif - Positive ...</td>\n      <td>1</td>\n    </tr>\n    <tr>\n      <th>1</th>\n      <td>C1-20200629_CellROX Tgfb2 TNFa.lif - Positive ...</td>\n      <td>0</td>\n    </tr>\n    <tr>\n      <th>2</th>\n      <td>C1-20200629_CellROX Tgfb2 TNFa.lif - Positive ...</td>\n      <td>1</td>\n    </tr>\n    <tr>\n      <th>3</th>\n      <td>C1-20200629_CellROX Tgfb2 TNFa.lif - Positive ...</td>\n      <td>0</td>\n    </tr>\n    <tr>\n      <th>4</th>\n      <td>C1-20200629_CellROX Tgfb2 TNFa.lif - Positive ...</td>\n      <td>0</td>\n    </tr>\n  </tbody>\n</table>\n</div>"
     },
     "execution_count": 268,
     "metadata": {},
     "output_type": "execute_result"
    }
   ]
  },
  {
   "cell_type": "code",
   "execution_count": 269,
   "outputs": [
    {
     "name": "stdout",
     "output_type": "stream",
     "text": [
      "Results_Data_070420\n"
     ]
    }
   ],
   "source": [
    "excel_file = pd.ExcelFile(excel_file_path)\n",
    "excel_file.sheet_names\n",
    "for sheet in excel_file.sheet_names:\n",
    "    print(sheet)"
   ],
   "metadata": {
    "collapsed": false,
    "pycharm": {
     "name": "#%%\n"
    }
   }
  },
  {
   "cell_type": "code",
   "execution_count": 270,
   "outputs": [
    {
     "data": {
      "text/plain": "(3431, 2)"
     },
     "execution_count": 270,
     "metadata": {},
     "output_type": "execute_result"
    }
   ],
   "source": [
    "results_data.shape"
   ],
   "metadata": {
    "collapsed": false,
    "pycharm": {
     "name": "#%%\n"
    }
   }
  },
  {
   "cell_type": "code",
   "execution_count": 271,
   "outputs": [
    {
     "data": {
      "text/plain": "<Figure size 432x288 with 1 Axes>",
      "image/png": "[encoded data removed]"
     },
     "metadata": {
      "needs_background": "light"
     },
     "output_type": "display_data"
    }
   ],
   "source": [
    "results_sorted = results_data.sort_values(['Label'], ascending=False)\n",
    "# results_sorted['Count'].head(10).plot(kind='barh')\n",
    "results_sorted['Count'].plot(kind='hist')\n",
    "plt.show()"
   ],
   "metadata": {
    "collapsed": false,
    "pycharm": {
     "name": "#%%\n"
    }
   }
  },
  {
   "cell_type": "code",
   "execution_count": 272,
   "outputs": [
    {
     "data": {
      "text/plain": "          Count\ncount  3431.000\nmean      0.389\nstd       0.563\nmin       0.000\n25%       0.000\n50%       0.000\n75%       1.000\nmax       4.000",
      "text/html": "<div>\n<style scoped>\n    .dataframe tbody tr th:only-of-type {\n        vertical-align: middle;\n    }\n\n    .dataframe tbody tr th {\n        vertical-align: top;\n    }\n\n    .dataframe thead th {\n        text-align: right;\n    }\n</style>\n<table border=\"1\" class=\"dataframe\">\n  <thead>\n    <tr style=\"text-align: right;\">\n      <th></th>\n      <th>Count</th>\n    </tr>\n  </thead>\n  <tbody>\n    <tr>\n      <th>count</th>\n      <td>3431.000</td>\n    </tr>\n    <tr>\n      <th>mean</th>\n      <td>0.389</td>\n    </tr>\n    <tr>\n      <th>std</th>\n      <td>0.563</td>\n    </tr>\n    <tr>\n      <th>min</th>\n      <td>0.000</td>\n    </tr>\n    <tr>\n      <th>25%</th>\n      <td>0.000</td>\n    </tr>\n    <tr>\n      <th>50%</th>\n      <td>0.000</td>\n    </tr>\n    <tr>\n      <th>75%</th>\n      <td>1.000</td>\n    </tr>\n    <tr>\n      <th>max</th>\n      <td>4.000</td>\n    </tr>\n  </tbody>\n</table>\n</div>"
     },
     "execution_count": 272,
     "metadata": {},
     "output_type": "execute_result"
    }
   ],
   "source": [
    "results_data.describe()\n"
   ],
   "metadata": {
    "collapsed": false,
    "pycharm": {
     "name": "#%%\n"
    }
   }
  },
  {
   "cell_type": "code",
   "execution_count": 273,
   "outputs": [
    {
     "data": {
      "text/plain": "0.38939084814922764"
     },
     "execution_count": 273,
     "metadata": {},
     "output_type": "execute_result"
    }
   ],
   "source": [
    "results_data['Count'].mean()"
   ],
   "metadata": {
    "collapsed": false,
    "pycharm": {
     "name": "#%%\n"
    }
   }
  },
  {
   "cell_type": "code",
   "execution_count": 274,
   "outputs": [],
   "source": [
    "# Skips rows and handles no header\n",
    "# movies_skip_rows = pd.read_excel(\"movies-no-header-skip-rows.xls\", header=None, skiprows=4)\n",
    "# movies_skip_rows.head(5)"
   ],
   "metadata": {
    "collapsed": false,
    "pycharm": {
     "name": "#%%\n"
    }
   }
  },
  {
   "cell_type": "code",
   "execution_count": 275,
   "outputs": [],
   "source": [
    "# dropping null value columns to avoid errors\n",
    "results_data.dropna(inplace = True)"
   ],
   "metadata": {
    "collapsed": false,
    "pycharm": {
     "name": "#%%\n"
    }
   }
  },
  {
   "cell_type": "code",
   "execution_count": 276,
   "outputs": [
    {
     "data": {
      "text/plain": "               id ordinal\n0  Positive con_1       0\n1  Positive con_1       1\n2  Positive con_1       2\n3  Positive con_1       3\n4  Positive con_1       4",
      "text/html": "<div>\n<style scoped>\n    .dataframe tbody tr th:only-of-type {\n        vertical-align: middle;\n    }\n\n    .dataframe tbody tr th {\n        vertical-align: top;\n    }\n\n    .dataframe thead th {\n        text-align: right;\n    }\n</style>\n<table border=\"1\" class=\"dataframe\">\n  <thead>\n    <tr style=\"text-align: right;\">\n      <th></th>\n      <th>id</th>\n      <th>ordinal</th>\n    </tr>\n  </thead>\n  <tbody>\n    <tr>\n      <th>0</th>\n      <td>Positive con_1</td>\n      <td>0</td>\n    </tr>\n    <tr>\n      <th>1</th>\n      <td>Positive con_1</td>\n      <td>1</td>\n    </tr>\n    <tr>\n      <th>2</th>\n      <td>Positive con_1</td>\n      <td>2</td>\n    </tr>\n    <tr>\n      <th>3</th>\n      <td>Positive con_1</td>\n      <td>3</td>\n    </tr>\n    <tr>\n      <th>4</th>\n      <td>Positive con_1</td>\n      <td>4</td>\n    </tr>\n  </tbody>\n</table>\n</div>"
     },
     "execution_count": 276,
     "metadata": {},
     "output_type": "execute_result"
    }
   ],
   "source": [
    "# results_data.append(results_data['Label'].str.split(\":\", expand=True))\n",
    "split_label = results_data['Label'].str.split(\":\", expand=True)\n",
    "split_label.columns = ['id', 'ordinal']\n",
    "split_label['id'] = split_label['id'].str.replace('C1-20200629_CellROX Tgfb2 TNFa.lif - ','').str.replace('.tif','')\n",
    "split_label.head()"
   ],
   "metadata": {
    "collapsed": false,
    "pycharm": {
     "name": "#%%\n"
    }
   }
  },
  {
   "cell_type": "code",
   "execution_count": 277,
   "outputs": [
    {
     "data": {
      "text/plain": "                                               Label  Count              id ordinal\n0  C1-20200629_CellROX Tgfb2 TNFa.lif - Positive ...      1  Positive con_1       0\n1  C1-20200629_CellROX Tgfb2 TNFa.lif - Positive ...      0  Positive con_1       1\n2  C1-20200629_CellROX Tgfb2 TNFa.lif - Positive ...      1  Positive con_1       2\n3  C1-20200629_CellROX Tgfb2 TNFa.lif - Positive ...      0  Positive con_1       3\n4  C1-20200629_CellROX Tgfb2 TNFa.lif - Positive ...      0  Positive con_1       4",
      "text/html": "<div>\n<style scoped>\n    .dataframe tbody tr th:only-of-type {\n        vertical-align: middle;\n    }\n\n    .dataframe tbody tr th {\n        vertical-align: top;\n    }\n\n    .dataframe thead th {\n        text-align: right;\n    }\n</style>\n<table border=\"1\" class=\"dataframe\">\n  <thead>\n    <tr style=\"text-align: right;\">\n      <th></th>\n      <th>Label</th>\n      <th>Count</th>\n      <th>id</th>\n      <th>ordinal</th>\n    </tr>\n  </thead>\n  <tbody>\n    <tr>\n      <th>0</th>\n      <td>C1-20200629_CellROX Tgfb2 TNFa.lif - Positive ...</td>\n      <td>1</td>\n      <td>Positive con_1</td>\n      <td>0</td>\n    </tr>\n    <tr>\n      <th>1</th>\n      <td>C1-20200629_CellROX Tgfb2 TNFa.lif - Positive ...</td>\n      <td>0</td>\n      <td>Positive con_1</td>\n      <td>1</td>\n    </tr>\n    <tr>\n      <th>2</th>\n      <td>C1-20200629_CellROX Tgfb2 TNFa.lif - Positive ...</td>\n      <td>1</td>\n      <td>Positive con_1</td>\n      <td>2</td>\n    </tr>\n    <tr>\n      <th>3</th>\n      <td>C1-20200629_CellROX Tgfb2 TNFa.lif - Positive ...</td>\n      <td>0</td>\n      <td>Positive con_1</td>\n      <td>3</td>\n    </tr>\n    <tr>\n      <th>4</th>\n      <td>C1-20200629_CellROX Tgfb2 TNFa.lif - Positive ...</td>\n      <td>0</td>\n      <td>Positive con_1</td>\n      <td>4</td>\n    </tr>\n  </tbody>\n</table>\n</div>"
     },
     "execution_count": 277,
     "metadata": {},
     "output_type": "execute_result"
    }
   ],
   "source": [
    "results_data['id'] = split_label['id']\n",
    "results_data['ordinal'] = split_label['ordinal']\n",
    "results_data.head()"
   ],
   "metadata": {
    "collapsed": false,
    "pycharm": {
     "name": "#%%\n"
    }
   }
  },
  {
   "cell_type": "code",
   "execution_count": 278,
   "outputs": [
    {
     "data": {
      "text/plain": "               id ordinal  nuclei_count                                        description\n0  Positive con_1       0             1  C1-20200629_CellROX Tgfb2 TNFa.lif - Positive ...\n1  Positive con_1       1             0  C1-20200629_CellROX Tgfb2 TNFa.lif - Positive ...\n2  Positive con_1       2             1  C1-20200629_CellROX Tgfb2 TNFa.lif - Positive ...\n3  Positive con_1       3             0  C1-20200629_CellROX Tgfb2 TNFa.lif - Positive ...\n4  Positive con_1       4             0  C1-20200629_CellROX Tgfb2 TNFa.lif - Positive ...",
      "text/html": "<div>\n<style scoped>\n    .dataframe tbody tr th:only-of-type {\n        vertical-align: middle;\n    }\n\n    .dataframe tbody tr th {\n        vertical-align: top;\n    }\n\n    .dataframe thead th {\n        text-align: right;\n    }\n</style>\n<table border=\"1\" class=\"dataframe\">\n  <thead>\n    <tr style=\"text-align: right;\">\n      <th></th>\n      <th>id</th>\n      <th>ordinal</th>\n      <th>nuclei_count</th>\n      <th>description</th>\n    </tr>\n  </thead>\n  <tbody>\n    <tr>\n      <th>0</th>\n      <td>Positive con_1</td>\n      <td>0</td>\n      <td>1</td>\n      <td>C1-20200629_CellROX Tgfb2 TNFa.lif - Positive ...</td>\n    </tr>\n    <tr>\n      <th>1</th>\n      <td>Positive con_1</td>\n      <td>1</td>\n      <td>0</td>\n      <td>C1-20200629_CellROX Tgfb2 TNFa.lif - Positive ...</td>\n    </tr>\n    <tr>\n      <th>2</th>\n      <td>Positive con_1</td>\n      <td>2</td>\n      <td>1</td>\n      <td>C1-20200629_CellROX Tgfb2 TNFa.lif - Positive ...</td>\n    </tr>\n    <tr>\n      <th>3</th>\n      <td>Positive con_1</td>\n      <td>3</td>\n      <td>0</td>\n      <td>C1-20200629_CellROX Tgfb2 TNFa.lif - Positive ...</td>\n    </tr>\n    <tr>\n      <th>4</th>\n      <td>Positive con_1</td>\n      <td>4</td>\n      <td>0</td>\n      <td>C1-20200629_CellROX Tgfb2 TNFa.lif - Positive ...</td>\n    </tr>\n  </tbody>\n</table>\n</div>"
     },
     "execution_count": 278,
     "metadata": {},
     "output_type": "execute_result"
    }
   ],
   "source": [
    "new_column_order = ['id', 'ordinal', 'Count', 'Label']\n",
    "results_data = results_data[new_column_order]\n",
    "results_data.rename(columns={'Count': 'nuclei_count', 'Label': 'description'}, inplace=True)\n",
    "results_data.head()"
   ],
   "metadata": {
    "collapsed": false,
    "pycharm": {
     "name": "#%%\n"
    }
   }
  },
  {
   "cell_type": "code",
   "execution_count": 279,
   "outputs": [
    {
     "data": {
      "text/plain": "id\nCon_1             69\nCon_2             86\nCon_3             60\nCon_4             71\nCon_5             47\nCon_6             63\nPositive con_1    54\nPositive con_2    63\nPositive con_3    54\nPositive con_4    56\nPositive con_5    70\nPositive con_6    54\nTGFb2_1           40\nTGFb2_2           34\nTGFb2_3           53\nTGFb2_4           49\nTGFb2_5           45\nTGFb2_6           36\nTNFa_1            52\nTNFa_2            57\nTNFa_3            54\nTNFa_4            63\nTNFa_5            64\nTNFa_6            42\nName: nuclei_count, dtype: int64"
     },
     "execution_count": 279,
     "metadata": {},
     "output_type": "execute_result"
    }
   ],
   "source": [
    "results_data.groupby('id')['nuclei_count'].sum()"
   ],
   "metadata": {
    "collapsed": false,
    "pycharm": {
     "name": "#%%\n"
    }
   }
  },
  {
   "cell_type": "code",
   "execution_count": 280,
   "outputs": [
    {
     "data": {
      "text/plain": "                     count_frequency\nid     nuclei_count                 \nCon_1  0                          70\n       1                          63\n       2                           3\nCon_2  0                          61\n       1                          64\n...                              ...\nTNFa_5 2                           4\nTNFa_6 0                         108\n       1                          35\n       2                           2\n       3                           1\n\n[82 rows x 1 columns]",
      "text/html": "<div>\n<style scoped>\n    .dataframe tbody tr th:only-of-type {\n        vertical-align: middle;\n    }\n\n    .dataframe tbody tr th {\n        vertical-align: top;\n    }\n\n    .dataframe thead th {\n        text-align: right;\n    }\n</style>\n<table border=\"1\" class=\"dataframe\">\n  <thead>\n    <tr style=\"text-align: right;\">\n      <th></th>\n      <th></th>\n      <th>count_frequency</th>\n    </tr>\n    <tr>\n      <th>id</th>\n      <th>nuclei_count</th>\n      <th></th>\n    </tr>\n  </thead>\n  <tbody>\n    <tr>\n      <th rowspan=\"3\" valign=\"top\">Con_1</th>\n      <th>0</th>\n      <td>70</td>\n    </tr>\n    <tr>\n      <th>1</th>\n      <td>63</td>\n    </tr>\n    <tr>\n      <th>2</th>\n      <td>3</td>\n    </tr>\n    <tr>\n      <th rowspan=\"2\" valign=\"top\">Con_2</th>\n      <th>0</th>\n      <td>61</td>\n    </tr>\n    <tr>\n      <th>1</th>\n      <td>64</td>\n    </tr>\n    <tr>\n      <th>...</th>\n      <th>...</th>\n      <td>...</td>\n    </tr>\n    <tr>\n      <th>TNFa_5</th>\n      <th>2</th>\n      <td>4</td>\n    </tr>\n    <tr>\n      <th rowspan=\"4\" valign=\"top\">TNFa_6</th>\n      <th>0</th>\n      <td>108</td>\n    </tr>\n    <tr>\n      <th>1</th>\n      <td>35</td>\n    </tr>\n    <tr>\n      <th>2</th>\n      <td>2</td>\n    </tr>\n    <tr>\n      <th>3</th>\n      <td>1</td>\n    </tr>\n  </tbody>\n</table>\n<p>82 rows × 1 columns</p>\n</div>"
     },
     "execution_count": 280,
     "metadata": {},
     "output_type": "execute_result"
    }
   ],
   "source": [
    "results_value_counts = results_data.groupby('id')['nuclei_count'].value_counts(sort=False).to_frame(name='count_frequency')\n",
    "results_value_counts\n",
    "# results_value_counts_list = results_data.groupby('id')['nuclei_count'].value_counts(sort=False).index.tolist()\n",
    "# results_value_counts_list"
   ],
   "metadata": {
    "collapsed": false,
    "pycharm": {
     "name": "#%%\n"
    }
   }
  },
  {
   "cell_type": "code",
   "execution_count": 281,
   "outputs": [
    {
     "data": {
      "text/plain": "                     nuclei_count\nid     nuclei_count              \nCon_1  0                    0.515\n       1                    0.463\n       2                    0.022\nCon_2  0                    0.452\n       1                    0.474\n...                           ...\nTNFa_5 2                    0.024\nTNFa_6 0                    0.740\n       1                    0.240\n       2                    0.014\n       3                    0.007\n\n[82 rows x 1 columns]",
      "text/html": "<div>\n<style scoped>\n    .dataframe tbody tr th:only-of-type {\n        vertical-align: middle;\n    }\n\n    .dataframe tbody tr th {\n        vertical-align: top;\n    }\n\n    .dataframe thead th {\n        text-align: right;\n    }\n</style>\n<table border=\"1\" class=\"dataframe\">\n  <thead>\n    <tr style=\"text-align: right;\">\n      <th></th>\n      <th></th>\n      <th>nuclei_count</th>\n    </tr>\n    <tr>\n      <th>id</th>\n      <th>nuclei_count</th>\n      <th></th>\n    </tr>\n  </thead>\n  <tbody>\n    <tr>\n      <th rowspan=\"3\" valign=\"top\">Con_1</th>\n      <th>0</th>\n      <td>0.515</td>\n    </tr>\n    <tr>\n      <th>1</th>\n      <td>0.463</td>\n    </tr>\n    <tr>\n      <th>2</th>\n      <td>0.022</td>\n    </tr>\n    <tr>\n      <th rowspan=\"2\" valign=\"top\">Con_2</th>\n      <th>0</th>\n      <td>0.452</td>\n    </tr>\n    <tr>\n      <th>1</th>\n      <td>0.474</td>\n    </tr>\n    <tr>\n      <th>...</th>\n      <th>...</th>\n      <td>...</td>\n    </tr>\n    <tr>\n      <th>TNFa_5</th>\n      <th>2</th>\n      <td>0.024</td>\n    </tr>\n    <tr>\n      <th rowspan=\"4\" valign=\"top\">TNFa_6</th>\n      <th>0</th>\n      <td>0.740</td>\n    </tr>\n    <tr>\n      <th>1</th>\n      <td>0.240</td>\n    </tr>\n    <tr>\n      <th>2</th>\n      <td>0.014</td>\n    </tr>\n    <tr>\n      <th>3</th>\n      <td>0.007</td>\n    </tr>\n  </tbody>\n</table>\n<p>82 rows × 1 columns</p>\n</div>"
     },
     "execution_count": 281,
     "metadata": {},
     "output_type": "execute_result"
    }
   ],
   "source": [
    "results_value_counts_normalized = results_data.groupby('id')['nuclei_count'].value_counts(sort=False, normalize=True).to_frame()\n",
    "results_value_counts_normalized"
   ],
   "metadata": {
    "collapsed": false,
    "pycharm": {
     "name": "#%%\n"
    }
   }
  },
  {
   "cell_type": "code",
   "execution_count": 282,
   "outputs": [],
   "source": [
    "from openpyxl import load_workbook\n",
    "\n",
    "book = load_workbook(excel_file_path)\n",
    "excel_writer = pd.ExcelWriter(excel_file_path, engine='openpyxl')\n",
    "excel_writer.book = book\n",
    "\n",
    "results_data.to_excel(excel_writer, sheet_name= 'Data_Results')\n",
    "results_value_counts.to_excel(excel_writer, sheet_name= 'Results_Value_Counts')\n",
    "excel_writer.save()\n",
    "excel_writer.close()\n"
   ],
   "metadata": {
    "collapsed": false,
    "pycharm": {
     "name": "#%%\n"
    }
   }
  },
  {
   "cell_type": "code",
   "execution_count": 283,
   "outputs": [
    {
     "data": {
      "text/plain": "<Figure size 432x288 with 1 Axes>",
      "image/png": "[encoded data removed]"
     },
     "metadata": {
      "needs_background": "light"
     },
     "output_type": "display_data"
    }
   ],
   "source": [
    "# results_sorted['Count'].head(10).plot(kind='barh')\n",
    "results_value_counts['count_frequency'].plot(kind='hist')\n",
    "plt.show()"
   ],
   "metadata": {
    "collapsed": false,
    "pycharm": {
     "name": "#%%\n"
    }
   }
  },
  {
   "cell_type": "code",
   "execution_count": 284,
   "outputs": [
    {
     "data": {
      "text/plain": "id      nuclei_count\nCon_1   0                70\n        1                63\n        2                 3\nCon_2   0                61\n        1                64\n                       ... \nTNFa_5  2                 4\nTNFa_6  0               108\n        1                35\n        2                 2\n        3                 1\nName: count_frequency, Length: 82, dtype: int64"
     },
     "execution_count": 284,
     "metadata": {},
     "output_type": "execute_result"
    }
   ],
   "source": [
    "results_value_counts['count_frequency']"
   ],
   "metadata": {
    "collapsed": false,
    "pycharm": {
     "name": "#%%\n"
    }
   }
  },
  {
   "cell_type": "code",
   "execution_count": 285,
   "outputs": [
    {
     "data": {
      "text/plain": "'count_frequency'"
     },
     "execution_count": 285,
     "metadata": {},
     "output_type": "execute_result"
    }
   ],
   "source": [
    "results_value_counts.columns[0]\n"
   ],
   "metadata": {
    "collapsed": false,
    "pycharm": {
     "name": "#%%\n"
    }
   }
  }
 ],
 "metadata": {
  "kernelspec": {
   "name": "python3",
   "language": "python",
   "display_name": "Python 3"
  },
  "language_info": {
   "codemirror_mode": {
    "name": "ipython",
    "version": 2
   },
   "file_extension": ".py",
   "mimetype": "text/x-python",
   "name": "python",
   "nbconvert_exporter": "python",
   "pygments_lexer": "ipython2",
   "version": "2.7.6"
  }
 },
 "nbformat": 4,
 "nbformat_minor": 0
}