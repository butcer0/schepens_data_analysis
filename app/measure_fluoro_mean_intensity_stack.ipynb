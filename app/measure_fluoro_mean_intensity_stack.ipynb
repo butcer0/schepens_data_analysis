{
 "cells": [
  {
   "cell_type": "code",
   "execution_count": 44,
   "metadata": {
    "collapsed": true
   },
   "outputs": [],
   "source": [
    "import pandas as pd\n",
    "import matplotlib.pyplot as plt\n",
    "\n",
    "pd.set_option('display.precision', 3)\n",
    "pd.set_option('display.expand_frame_repr', False)\n",
    "pd.set_option('display.max_rows', 25)"
   ]
  },
  {
   "cell_type": "code",
   "execution_count": 45,
   "outputs": [
    {
     "data": {
      "text/plain": "                                     Label     Area     Mean   Perim.     IntDen  Median  %Area  RawIntDen\n0  1  TGFb2_1.tif:0:c:2/2 z:1/18 - TGFb2_1    3.872  225.655   10.954    873.668     255  100.0    26853.0\n1  2  TGFb2_1.tif:1:c:2/2 z:1/18 - TGFb2_1   16.072  162.674   17.560   2614.562     163  100.0    80361.0\n2  3  TGFb2_1.tif:2:c:2/2 z:1/18 - TGFb2_1  151.744  128.366  106.297  19478.763     118  100.0   598698.0\n3  4  TGFb2_1.tif:3:c:2/2 z:1/18 - TGFb2_1   10.444  131.928   18.413   1377.833     128  100.0    42349.0\n4  5  TGFb2_1.tif:4:c:2/2 z:1/18 - TGFb2_1    0.455  150.857    4.161     68.714     153  100.0     2112.0",
      "text/html": "<div>\n<style scoped>\n    .dataframe tbody tr th:only-of-type {\n        vertical-align: middle;\n    }\n\n    .dataframe tbody tr th {\n        vertical-align: top;\n    }\n\n    .dataframe thead th {\n        text-align: right;\n    }\n</style>\n<table border=\"1\" class=\"dataframe\">\n  <thead>\n    <tr style=\"text-align: right;\">\n      <th></th>\n      <th></th>\n      <th>Label</th>\n      <th>Area</th>\n      <th>Mean</th>\n      <th>Perim.</th>\n      <th>IntDen</th>\n      <th>Median</th>\n      <th>%Area</th>\n      <th>RawIntDen</th>\n    </tr>\n  </thead>\n  <tbody>\n    <tr>\n      <th>0</th>\n      <td>1</td>\n      <td>TGFb2_1.tif:0:c:2/2 z:1/18 - TGFb2_1</td>\n      <td>3.872</td>\n      <td>225.655</td>\n      <td>10.954</td>\n      <td>873.668</td>\n      <td>255</td>\n      <td>100.0</td>\n      <td>26853.0</td>\n    </tr>\n    <tr>\n      <th>1</th>\n      <td>2</td>\n      <td>TGFb2_1.tif:1:c:2/2 z:1/18 - TGFb2_1</td>\n      <td>16.072</td>\n      <td>162.674</td>\n      <td>17.560</td>\n      <td>2614.562</td>\n      <td>163</td>\n      <td>100.0</td>\n      <td>80361.0</td>\n    </tr>\n    <tr>\n      <th>2</th>\n      <td>3</td>\n      <td>TGFb2_1.tif:2:c:2/2 z:1/18 - TGFb2_1</td>\n      <td>151.744</td>\n      <td>128.366</td>\n      <td>106.297</td>\n      <td>19478.763</td>\n      <td>118</td>\n      <td>100.0</td>\n      <td>598698.0</td>\n    </tr>\n    <tr>\n      <th>3</th>\n      <td>4</td>\n      <td>TGFb2_1.tif:3:c:2/2 z:1/18 - TGFb2_1</td>\n      <td>10.444</td>\n      <td>131.928</td>\n      <td>18.413</td>\n      <td>1377.833</td>\n      <td>128</td>\n      <td>100.0</td>\n      <td>42349.0</td>\n    </tr>\n    <tr>\n      <th>4</th>\n      <td>5</td>\n      <td>TGFb2_1.tif:4:c:2/2 z:1/18 - TGFb2_1</td>\n      <td>0.455</td>\n      <td>150.857</td>\n      <td>4.161</td>\n      <td>68.714</td>\n      <td>153</td>\n      <td>100.0</td>\n      <td>2112.0</td>\n    </tr>\n  </tbody>\n</table>\n</div>"
     },
     "execution_count": 45,
     "metadata": {},
     "output_type": "execute_result"
    }
   ],
   "source": [
    "excel_file_path = '../data/090120_Results_091020.xlsx'\n",
    "results_data = pd.read_excel(excel_file_path)\n",
    "results_data.head()"
   ],
   "metadata": {
    "collapsed": false,
    "pycharm": {
     "name": "#%%\n"
    }
   }
  },
  {
   "cell_type": "code",
   "execution_count": 46,
   "outputs": [
    {
     "data": {
      "text/plain": "(10489, 9)"
     },
     "execution_count": 46,
     "metadata": {},
     "output_type": "execute_result"
    }
   ],
   "source": [
    "# dropping null value columns to avoid errors\n",
    "results_data.dropna(inplace = True)\n",
    "results_data.shape"
   ],
   "metadata": {
    "collapsed": false,
    "pycharm": {
     "name": "#%%\n"
    }
   }
  },
  {
   "cell_type": "code",
   "execution_count": 47,
   "outputs": [
    {
     "data": {
      "text/plain": "<Figure size 432x288 with 1 Axes>",
      "image/png": "[encoded data removed]"
     },
     "metadata": {
      "needs_background": "light"
     },
     "output_type": "display_data"
    }
   ],
   "source": [
    "results_sorted = results_data.sort_values(['Label'], ascending=False)\n",
    "# results_sorted['Count'].head(10).plot(kind='barh')\n",
    "results_sorted['Mean'].plot(kind='hist')\n",
    "plt.show()"
   ],
   "metadata": {
    "collapsed": false,
    "pycharm": {
     "name": "#%%\n"
    }
   }
  },
  {
   "cell_type": "code",
   "execution_count": 48,
   "outputs": [
    {
     "data": {
      "text/plain": "                       Area       Mean     Perim.      IntDen     Median      %Area  RawIntDen\ncount  10489.000  10489.000  10489.000  10489.000   10489.000  10489.000  10489.000  1.049e+04\nmean    5245.000     60.037     74.819     26.702    5432.864     70.669     95.875  1.670e+05\nstd     3028.058    241.338     37.021     73.170   19313.931     37.300     14.501  5.936e+05\nmin        1.000      0.033      0.000      0.510       0.000      0.000      0.000  0.000e+00\n25%     2623.000      0.065     49.542      1.020       4.718     47.000     99.829  1.450e+02\n50%     5245.000      2.733     74.000      8.287     188.932     68.000    100.000  5.807e+03\n75%     7867.000     46.721     95.731     32.946    3768.716     88.000    100.000  1.158e+05\nmax    10489.000  10122.613    255.000   2837.893  693928.761    255.000    100.000  2.133e+07",
      "text/html": "<div>\n<style scoped>\n    .dataframe tbody tr th:only-of-type {\n        vertical-align: middle;\n    }\n\n    .dataframe tbody tr th {\n        vertical-align: top;\n    }\n\n    .dataframe thead th {\n        text-align: right;\n    }\n</style>\n<table border=\"1\" class=\"dataframe\">\n  <thead>\n    <tr style=\"text-align: right;\">\n      <th></th>\n      <th></th>\n      <th>Area</th>\n      <th>Mean</th>\n      <th>Perim.</th>\n      <th>IntDen</th>\n      <th>Median</th>\n      <th>%Area</th>\n      <th>RawIntDen</th>\n    </tr>\n  </thead>\n  <tbody>\n    <tr>\n      <th>count</th>\n      <td>10489.000</td>\n      <td>10489.000</td>\n      <td>10489.000</td>\n      <td>10489.000</td>\n      <td>10489.000</td>\n      <td>10489.000</td>\n      <td>10489.000</td>\n      <td>1.049e+04</td>\n    </tr>\n    <tr>\n      <th>mean</th>\n      <td>5245.000</td>\n      <td>60.037</td>\n      <td>74.819</td>\n      <td>26.702</td>\n      <td>5432.864</td>\n      <td>70.669</td>\n      <td>95.875</td>\n      <td>1.670e+05</td>\n    </tr>\n    <tr>\n      <th>std</th>\n      <td>3028.058</td>\n      <td>241.338</td>\n      <td>37.021</td>\n      <td>73.170</td>\n      <td>19313.931</td>\n      <td>37.300</td>\n      <td>14.501</td>\n      <td>5.936e+05</td>\n    </tr>\n    <tr>\n      <th>min</th>\n      <td>1.000</td>\n      <td>0.033</td>\n      <td>0.000</td>\n      <td>0.510</td>\n      <td>0.000</td>\n      <td>0.000</td>\n      <td>0.000</td>\n      <td>0.000e+00</td>\n    </tr>\n    <tr>\n      <th>25%</th>\n      <td>2623.000</td>\n      <td>0.065</td>\n      <td>49.542</td>\n      <td>1.020</td>\n      <td>4.718</td>\n      <td>47.000</td>\n      <td>99.829</td>\n      <td>1.450e+02</td>\n    </tr>\n    <tr>\n      <th>50%</th>\n      <td>5245.000</td>\n      <td>2.733</td>\n      <td>74.000</td>\n      <td>8.287</td>\n      <td>188.932</td>\n      <td>68.000</td>\n      <td>100.000</td>\n      <td>5.807e+03</td>\n    </tr>\n    <tr>\n      <th>75%</th>\n      <td>7867.000</td>\n      <td>46.721</td>\n      <td>95.731</td>\n      <td>32.946</td>\n      <td>3768.716</td>\n      <td>88.000</td>\n      <td>100.000</td>\n      <td>1.158e+05</td>\n    </tr>\n    <tr>\n      <th>max</th>\n      <td>10489.000</td>\n      <td>10122.613</td>\n      <td>255.000</td>\n      <td>2837.893</td>\n      <td>693928.761</td>\n      <td>255.000</td>\n      <td>100.000</td>\n      <td>2.133e+07</td>\n    </tr>\n  </tbody>\n</table>\n</div>"
     },
     "execution_count": 48,
     "metadata": {},
     "output_type": "execute_result"
    }
   ],
   "source": [
    "results_data.describe()\n"
   ],
   "metadata": {
    "collapsed": false,
    "pycharm": {
     "name": "#%%\n"
    }
   }
  },
  {
   "cell_type": "code",
   "execution_count": 49,
   "outputs": [
    {
     "data": {
      "text/plain": "        id count channel      z         ordinal\n0  TGFb2_1     0       c  2/2 z  1/18 - TGFb2_1\n1  TGFb2_1     1       c  2/2 z  1/18 - TGFb2_1\n2  TGFb2_1     2       c  2/2 z  1/18 - TGFb2_1\n3  TGFb2_1     3       c  2/2 z  1/18 - TGFb2_1\n4  TGFb2_1     4       c  2/2 z  1/18 - TGFb2_1",
      "text/html": "<div>\n<style scoped>\n    .dataframe tbody tr th:only-of-type {\n        vertical-align: middle;\n    }\n\n    .dataframe tbody tr th {\n        vertical-align: top;\n    }\n\n    .dataframe thead th {\n        text-align: right;\n    }\n</style>\n<table border=\"1\" class=\"dataframe\">\n  <thead>\n    <tr style=\"text-align: right;\">\n      <th></th>\n      <th>id</th>\n      <th>count</th>\n      <th>channel</th>\n      <th>z</th>\n      <th>ordinal</th>\n    </tr>\n  </thead>\n  <tbody>\n    <tr>\n      <th>0</th>\n      <td>TGFb2_1</td>\n      <td>0</td>\n      <td>c</td>\n      <td>2/2 z</td>\n      <td>1/18 - TGFb2_1</td>\n    </tr>\n    <tr>\n      <th>1</th>\n      <td>TGFb2_1</td>\n      <td>1</td>\n      <td>c</td>\n      <td>2/2 z</td>\n      <td>1/18 - TGFb2_1</td>\n    </tr>\n    <tr>\n      <th>2</th>\n      <td>TGFb2_1</td>\n      <td>2</td>\n      <td>c</td>\n      <td>2/2 z</td>\n      <td>1/18 - TGFb2_1</td>\n    </tr>\n    <tr>\n      <th>3</th>\n      <td>TGFb2_1</td>\n      <td>3</td>\n      <td>c</td>\n      <td>2/2 z</td>\n      <td>1/18 - TGFb2_1</td>\n    </tr>\n    <tr>\n      <th>4</th>\n      <td>TGFb2_1</td>\n      <td>4</td>\n      <td>c</td>\n      <td>2/2 z</td>\n      <td>1/18 - TGFb2_1</td>\n    </tr>\n  </tbody>\n</table>\n</div>"
     },
     "execution_count": 49,
     "metadata": {},
     "output_type": "execute_result"
    }
   ],
   "source": [
    "split_label = results_data['Label'].str.split(\":\", expand=True)\n",
    "split_label.columns = ['id', 'count', 'channel', 'z', 'ordinal']\n",
    "split_label['id'] = split_label['id'].str.replace('C1-','').str.replace('C2-','').str.replace('.tiff','').str.replace('.tif','').str.replace('_Mito', '')\n",
    "split_label.head()"
   ],
   "metadata": {
    "collapsed": false,
    "pycharm": {
     "name": "#%%\n"
    }
   }
  },
  {
   "cell_type": "code",
   "execution_count": 50,
   "outputs": [
    {
     "data": {
      "text/plain": "  condition replicate\n0     TGFb2         1\n1     TGFb2         1\n2     TGFb2         1\n3     TGFb2         1\n4     TGFb2         1",
      "text/html": "<div>\n<style scoped>\n    .dataframe tbody tr th:only-of-type {\n        vertical-align: middle;\n    }\n\n    .dataframe tbody tr th {\n        vertical-align: top;\n    }\n\n    .dataframe thead th {\n        text-align: right;\n    }\n</style>\n<table border=\"1\" class=\"dataframe\">\n  <thead>\n    <tr style=\"text-align: right;\">\n      <th></th>\n      <th>condition</th>\n      <th>replicate</th>\n    </tr>\n  </thead>\n  <tbody>\n    <tr>\n      <th>0</th>\n      <td>TGFb2</td>\n      <td>1</td>\n    </tr>\n    <tr>\n      <th>1</th>\n      <td>TGFb2</td>\n      <td>1</td>\n    </tr>\n    <tr>\n      <th>2</th>\n      <td>TGFb2</td>\n      <td>1</td>\n    </tr>\n    <tr>\n      <th>3</th>\n      <td>TGFb2</td>\n      <td>1</td>\n    </tr>\n    <tr>\n      <th>4</th>\n      <td>TGFb2</td>\n      <td>1</td>\n    </tr>\n  </tbody>\n</table>\n</div>"
     },
     "execution_count": 50,
     "metadata": {},
     "output_type": "execute_result"
    }
   ],
   "source": [
    "condition_label = split_label['id'].str.split(\"_\", expand=True)\n",
    "condition_label.columns = ['condition', 'replicate']\n",
    "condition_label.head()"
   ],
   "metadata": {
    "collapsed": false,
    "pycharm": {
     "name": "#%%\n"
    }
   }
  },
  {
   "cell_type": "code",
   "execution_count": 51,
   "outputs": [
    {
     "data": {
      "text/plain": "                                     Label     Area     Mean   Perim.     IntDen  Median  %Area  RawIntDen       id         ordinal\n0  1  TGFb2_1.tif:0:c:2/2 z:1/18 - TGFb2_1    3.872  225.655   10.954    873.668     255  100.0    26853.0  TGFb2_1  1/18 - TGFb2_1\n1  2  TGFb2_1.tif:1:c:2/2 z:1/18 - TGFb2_1   16.072  162.674   17.560   2614.562     163  100.0    80361.0  TGFb2_1  1/18 - TGFb2_1\n2  3  TGFb2_1.tif:2:c:2/2 z:1/18 - TGFb2_1  151.744  128.366  106.297  19478.763     118  100.0   598698.0  TGFb2_1  1/18 - TGFb2_1\n3  4  TGFb2_1.tif:3:c:2/2 z:1/18 - TGFb2_1   10.444  131.928   18.413   1377.833     128  100.0    42349.0  TGFb2_1  1/18 - TGFb2_1\n4  5  TGFb2_1.tif:4:c:2/2 z:1/18 - TGFb2_1    0.455  150.857    4.161     68.714     153  100.0     2112.0  TGFb2_1  1/18 - TGFb2_1",
      "text/html": "<div>\n<style scoped>\n    .dataframe tbody tr th:only-of-type {\n        vertical-align: middle;\n    }\n\n    .dataframe tbody tr th {\n        vertical-align: top;\n    }\n\n    .dataframe thead th {\n        text-align: right;\n    }\n</style>\n<table border=\"1\" class=\"dataframe\">\n  <thead>\n    <tr style=\"text-align: right;\">\n      <th></th>\n      <th></th>\n      <th>Label</th>\n      <th>Area</th>\n      <th>Mean</th>\n      <th>Perim.</th>\n      <th>IntDen</th>\n      <th>Median</th>\n      <th>%Area</th>\n      <th>RawIntDen</th>\n      <th>id</th>\n      <th>ordinal</th>\n    </tr>\n  </thead>\n  <tbody>\n    <tr>\n      <th>0</th>\n      <td>1</td>\n      <td>TGFb2_1.tif:0:c:2/2 z:1/18 - TGFb2_1</td>\n      <td>3.872</td>\n      <td>225.655</td>\n      <td>10.954</td>\n      <td>873.668</td>\n      <td>255</td>\n      <td>100.0</td>\n      <td>26853.0</td>\n      <td>TGFb2_1</td>\n      <td>1/18 - TGFb2_1</td>\n    </tr>\n    <tr>\n      <th>1</th>\n      <td>2</td>\n      <td>TGFb2_1.tif:1:c:2/2 z:1/18 - TGFb2_1</td>\n      <td>16.072</td>\n      <td>162.674</td>\n      <td>17.560</td>\n      <td>2614.562</td>\n      <td>163</td>\n      <td>100.0</td>\n      <td>80361.0</td>\n      <td>TGFb2_1</td>\n      <td>1/18 - TGFb2_1</td>\n    </tr>\n    <tr>\n      <th>2</th>\n      <td>3</td>\n      <td>TGFb2_1.tif:2:c:2/2 z:1/18 - TGFb2_1</td>\n      <td>151.744</td>\n      <td>128.366</td>\n      <td>106.297</td>\n      <td>19478.763</td>\n      <td>118</td>\n      <td>100.0</td>\n      <td>598698.0</td>\n      <td>TGFb2_1</td>\n      <td>1/18 - TGFb2_1</td>\n    </tr>\n    <tr>\n      <th>3</th>\n      <td>4</td>\n      <td>TGFb2_1.tif:3:c:2/2 z:1/18 - TGFb2_1</td>\n      <td>10.444</td>\n      <td>131.928</td>\n      <td>18.413</td>\n      <td>1377.833</td>\n      <td>128</td>\n      <td>100.0</td>\n      <td>42349.0</td>\n      <td>TGFb2_1</td>\n      <td>1/18 - TGFb2_1</td>\n    </tr>\n    <tr>\n      <th>4</th>\n      <td>5</td>\n      <td>TGFb2_1.tif:4:c:2/2 z:1/18 - TGFb2_1</td>\n      <td>0.455</td>\n      <td>150.857</td>\n      <td>4.161</td>\n      <td>68.714</td>\n      <td>153</td>\n      <td>100.0</td>\n      <td>2112.0</td>\n      <td>TGFb2_1</td>\n      <td>1/18 - TGFb2_1</td>\n    </tr>\n  </tbody>\n</table>\n</div>"
     },
     "execution_count": 51,
     "metadata": {},
     "output_type": "execute_result"
    }
   ],
   "source": [
    "results_data['id'] = split_label['id']\n",
    "results_data['ordinal'] = split_label['ordinal']\n",
    "results_data.head()"
   ],
   "metadata": {
    "collapsed": false,
    "pycharm": {
     "name": "#%%\n"
    }
   }
  },
  {
   "cell_type": "code",
   "execution_count": 52,
   "outputs": [
    {
     "data": {
      "text/plain": "                                     Label     Area     Mean   Perim.     IntDen  Median  %Area  RawIntDen       id         ordinal condition replicate\n0  1  TGFb2_1.tif:0:c:2/2 z:1/18 - TGFb2_1    3.872  225.655   10.954    873.668     255  100.0    26853.0  TGFb2_1  1/18 - TGFb2_1     TGFb2         1\n1  2  TGFb2_1.tif:1:c:2/2 z:1/18 - TGFb2_1   16.072  162.674   17.560   2614.562     163  100.0    80361.0  TGFb2_1  1/18 - TGFb2_1     TGFb2         1\n2  3  TGFb2_1.tif:2:c:2/2 z:1/18 - TGFb2_1  151.744  128.366  106.297  19478.763     118  100.0   598698.0  TGFb2_1  1/18 - TGFb2_1     TGFb2         1\n3  4  TGFb2_1.tif:3:c:2/2 z:1/18 - TGFb2_1   10.444  131.928   18.413   1377.833     128  100.0    42349.0  TGFb2_1  1/18 - TGFb2_1     TGFb2         1\n4  5  TGFb2_1.tif:4:c:2/2 z:1/18 - TGFb2_1    0.455  150.857    4.161     68.714     153  100.0     2112.0  TGFb2_1  1/18 - TGFb2_1     TGFb2         1",
      "text/html": "<div>\n<style scoped>\n    .dataframe tbody tr th:only-of-type {\n        vertical-align: middle;\n    }\n\n    .dataframe tbody tr th {\n        vertical-align: top;\n    }\n\n    .dataframe thead th {\n        text-align: right;\n    }\n</style>\n<table border=\"1\" class=\"dataframe\">\n  <thead>\n    <tr style=\"text-align: right;\">\n      <th></th>\n      <th></th>\n      <th>Label</th>\n      <th>Area</th>\n      <th>Mean</th>\n      <th>Perim.</th>\n      <th>IntDen</th>\n      <th>Median</th>\n      <th>%Area</th>\n      <th>RawIntDen</th>\n      <th>id</th>\n      <th>ordinal</th>\n      <th>condition</th>\n      <th>replicate</th>\n    </tr>\n  </thead>\n  <tbody>\n    <tr>\n      <th>0</th>\n      <td>1</td>\n      <td>TGFb2_1.tif:0:c:2/2 z:1/18 - TGFb2_1</td>\n      <td>3.872</td>\n      <td>225.655</td>\n      <td>10.954</td>\n      <td>873.668</td>\n      <td>255</td>\n      <td>100.0</td>\n      <td>26853.0</td>\n      <td>TGFb2_1</td>\n      <td>1/18 - TGFb2_1</td>\n      <td>TGFb2</td>\n      <td>1</td>\n    </tr>\n    <tr>\n      <th>1</th>\n      <td>2</td>\n      <td>TGFb2_1.tif:1:c:2/2 z:1/18 - TGFb2_1</td>\n      <td>16.072</td>\n      <td>162.674</td>\n      <td>17.560</td>\n      <td>2614.562</td>\n      <td>163</td>\n      <td>100.0</td>\n      <td>80361.0</td>\n      <td>TGFb2_1</td>\n      <td>1/18 - TGFb2_1</td>\n      <td>TGFb2</td>\n      <td>1</td>\n    </tr>\n    <tr>\n      <th>2</th>\n      <td>3</td>\n      <td>TGFb2_1.tif:2:c:2/2 z:1/18 - TGFb2_1</td>\n      <td>151.744</td>\n      <td>128.366</td>\n      <td>106.297</td>\n      <td>19478.763</td>\n      <td>118</td>\n      <td>100.0</td>\n      <td>598698.0</td>\n      <td>TGFb2_1</td>\n      <td>1/18 - TGFb2_1</td>\n      <td>TGFb2</td>\n      <td>1</td>\n    </tr>\n    <tr>\n      <th>3</th>\n      <td>4</td>\n      <td>TGFb2_1.tif:3:c:2/2 z:1/18 - TGFb2_1</td>\n      <td>10.444</td>\n      <td>131.928</td>\n      <td>18.413</td>\n      <td>1377.833</td>\n      <td>128</td>\n      <td>100.0</td>\n      <td>42349.0</td>\n      <td>TGFb2_1</td>\n      <td>1/18 - TGFb2_1</td>\n      <td>TGFb2</td>\n      <td>1</td>\n    </tr>\n    <tr>\n      <th>4</th>\n      <td>5</td>\n      <td>TGFb2_1.tif:4:c:2/2 z:1/18 - TGFb2_1</td>\n      <td>0.455</td>\n      <td>150.857</td>\n      <td>4.161</td>\n      <td>68.714</td>\n      <td>153</td>\n      <td>100.0</td>\n      <td>2112.0</td>\n      <td>TGFb2_1</td>\n      <td>1/18 - TGFb2_1</td>\n      <td>TGFb2</td>\n      <td>1</td>\n    </tr>\n  </tbody>\n</table>\n</div>"
     },
     "execution_count": 52,
     "metadata": {},
     "output_type": "execute_result"
    }
   ],
   "source": [
    "results_data['condition'] = condition_label['condition']\n",
    "results_data['replicate'] = condition_label['replicate']\n",
    "results_data.head()"
   ],
   "metadata": {
    "collapsed": false,
    "pycharm": {
     "name": "#%%\n"
    }
   }
  },
  {
   "cell_type": "code",
   "execution_count": 53,
   "outputs": [],
   "source": [
    "new_column_order = ['id', 'ordinal', 'Mean', 'Label', 'condition', 'replicate']\n",
    "results_data = results_data[new_column_order]\n",
    "results_data.rename(columns={'Count': 'nuclei_count', 'Label': 'description'}, inplace=True)\n",
    "results_data = results_data[results_data['Mean']!=0]"
   ],
   "metadata": {
    "collapsed": false,
    "pycharm": {
     "name": "#%%\n"
    }
   }
  },
  {
   "cell_type": "code",
   "execution_count": 54,
   "outputs": [
    {
     "data": {
      "text/plain": "id\nCon_1      38721.041\nCon_2      22135.345\nCon_3      18292.624\nCon_4      19958.589\nCon_5      32686.830\nCon_6      21672.220\nNaIO3_1    22390.660\nNaIO3_2    27200.905\nNaIO3_3    39981.678\nNaIO3_4    47205.196\nNaIO3_5    39506.457\nNaIO3_6    38313.389\nTGFb2_1    14137.461\nTGFb2_2    15261.119\nTGFb2_3    35957.652\nTGFb2_4    18159.547\nTGFb2_5    52939.677\nTGFb2_6    47888.796\nTNFa_1     21583.650\nTNFa_2     36650.793\nTNFa_3     57554.183\nTNFa_4     41062.523\nTNFa_5     38269.401\nTNFa_6     37251.942\nName: Mean, dtype: float64"
     },
     "execution_count": 54,
     "metadata": {},
     "output_type": "execute_result"
    }
   ],
   "source": [
    "results_data.groupby('id')['Mean'].sum()"
   ],
   "metadata": {
    "collapsed": false,
    "pycharm": {
     "name": "#%%\n"
    }
   }
  },
  {
   "cell_type": "code",
   "execution_count": 55,
   "outputs": [
    {
     "data": {
      "text/plain": "id\nCon_1       77.910\nCon_2       74.280\nCon_3       87.108\nCon_4       71.793\nCon_5       83.173\nCon_6       45.150\nNaIO3_1    105.120\nNaIO3_2     95.442\nNaIO3_3     91.282\nNaIO3_4     92.018\nNaIO3_5     95.196\nNaIO3_6     91.440\nTGFb2_1    109.593\nTGFb2_2     98.459\nTGFb2_3     81.908\nTGFb2_4     55.876\nTGFb2_5     71.251\nTGFb2_6     64.715\nTNFa_1      85.311\nTNFa_2      69.944\nTNFa_3      61.424\nTNFa_4      68.781\nTNFa_5      67.733\nTNFa_6      73.913\nName: Mean, dtype: float64"
     },
     "execution_count": 55,
     "metadata": {},
     "output_type": "execute_result"
    }
   ],
   "source": [
    "results_fluoro_id_means = results_data.groupby('id')['Mean'].mean()\n",
    "results_fluoro_id_means"
   ],
   "metadata": {
    "collapsed": false,
    "pycharm": {
     "name": "#%%\n"
    }
   }
  },
  {
   "cell_type": "code",
   "execution_count": 56,
   "outputs": [
    {
     "data": {
      "text/plain": "condition\nCon      71.181\nNaIO3    93.998\nTGFb2    72.835\nTNFa     68.749\nName: Mean, dtype: float64"
     },
     "execution_count": 56,
     "metadata": {},
     "output_type": "execute_result"
    }
   ],
   "source": [
    "result_fluoro_condition_means = results_data.groupby('condition')['Mean'].mean()\n",
    "result_fluoro_condition_means"
   ],
   "metadata": {
    "collapsed": false,
    "pycharm": {
     "name": "#%%\n"
    }
   }
  },
  {
   "cell_type": "code",
   "execution_count": 57,
   "outputs": [
    {
     "data": {
      "text/plain": "<Figure size 432x288 with 1 Axes>",
      "image/png": "[encoded data removed]"
     },
     "metadata": {
      "needs_background": "light"
     },
     "output_type": "display_data"
    }
   ],
   "source": [
    "results_data.groupby('condition')['Mean'].mean().plot(kind='hist')\n",
    "plt.show()"
   ],
   "metadata": {
    "collapsed": false,
    "pycharm": {
     "name": "#%%\n"
    }
   }
  },
  {
   "cell_type": "code",
   "execution_count": 58,
   "outputs": [
    {
     "data": {
      "text/plain": "93.99837295398547"
     },
     "execution_count": 58,
     "metadata": {},
     "output_type": "execute_result"
    }
   ],
   "source": [
    "results_data.groupby('condition')['Mean'].mean()[1]\n"
   ],
   "metadata": {
    "collapsed": false,
    "pycharm": {
     "name": "#%%\n"
    }
   }
  },
  {
   "cell_type": "code",
   "execution_count": 59,
   "outputs": [],
   "source": [
    "from openpyxl import load_workbook\n",
    "\n",
    "book = load_workbook(excel_file_path)\n",
    "excel_writer = pd.ExcelWriter(excel_file_path, engine='openpyxl')\n",
    "excel_writer.book = book\n",
    "\n",
    "results_data.to_excel(excel_writer, sheet_name= 'Data_Results')\n",
    "results_fluoro_id_means.to_excel(excel_writer, sheet_name= 'Fluoro_Id_Means')\n",
    "result_fluoro_condition_means.to_excel(excel_writer, sheet_name= 'Fluoro_Condition_Means')\n",
    "excel_writer.save()\n",
    "excel_writer.close()"
   ],
   "metadata": {
    "collapsed": false,
    "pycharm": {
     "name": "#%%\n"
    }
   }
  }
 ],
 "metadata": {
  "kernelspec": {
   "display_name": "Python 3",
   "language": "python",
   "name": "python3"
  },
  "language_info": {
   "codemirror_mode": {
    "name": "ipython",
    "version": 2
   },
   "file_extension": ".py",
   "mimetype": "text/x-python",
   "name": "python",
   "nbconvert_exporter": "python",
   "pygments_lexer": "ipython2",
   "version": "2.7.6"
  }
 },
 "nbformat": 4,
 "nbformat_minor": 0
}