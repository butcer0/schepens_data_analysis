{
 "cells": [
  {
   "cell_type": "code",
   "execution_count": 23,
   "metadata": {
    "collapsed": true
   },
   "outputs": [],
   "source": [
    "import pandas as pd\n",
    "import matplotlib.pyplot as plt\n",
    "\n",
    "pd.set_option('display.precision', 3)\n",
    "pd.set_option('display.expand_frame_repr', False)\n",
    "pd.set_option('display.max_rows', 25)"
   ]
  },
  {
   "cell_type": "code",
   "execution_count": 24,
   "outputs": [
    {
     "data": {
      "text/plain": "                  Label       Area    Mean     IntDen  RawIntDen\n0  1  Con_Mito_6.tiff:0  1.222e-04  39.000  5.000e-03        429\n1  2  Con_Mito_6.tiff:1  2.222e-05  30.000  6.667e-04         60\n2  3  Con_Mito_6.tiff:2  9.000e-02  56.402  5.080e+00     457192\n3  4  Con_Mito_6.tiff:3  4.444e-05  53.750  2.000e-03        215\n4  5  Con_Mito_6.tiff:4  1.200e-02  41.963  4.900e-01      44061",
      "text/html": "<div>\n<style scoped>\n    .dataframe tbody tr th:only-of-type {\n        vertical-align: middle;\n    }\n\n    .dataframe tbody tr th {\n        vertical-align: top;\n    }\n\n    .dataframe thead th {\n        text-align: right;\n    }\n</style>\n<table border=\"1\" class=\"dataframe\">\n  <thead>\n    <tr style=\"text-align: right;\">\n      <th></th>\n      <th></th>\n      <th>Label</th>\n      <th>Area</th>\n      <th>Mean</th>\n      <th>IntDen</th>\n      <th>RawIntDen</th>\n    </tr>\n  </thead>\n  <tbody>\n    <tr>\n      <th>0</th>\n      <td>1</td>\n      <td>Con_Mito_6.tiff:0</td>\n      <td>1.222e-04</td>\n      <td>39.000</td>\n      <td>5.000e-03</td>\n      <td>429</td>\n    </tr>\n    <tr>\n      <th>1</th>\n      <td>2</td>\n      <td>Con_Mito_6.tiff:1</td>\n      <td>2.222e-05</td>\n      <td>30.000</td>\n      <td>6.667e-04</td>\n      <td>60</td>\n    </tr>\n    <tr>\n      <th>2</th>\n      <td>3</td>\n      <td>Con_Mito_6.tiff:2</td>\n      <td>9.000e-02</td>\n      <td>56.402</td>\n      <td>5.080e+00</td>\n      <td>457192</td>\n    </tr>\n    <tr>\n      <th>3</th>\n      <td>4</td>\n      <td>Con_Mito_6.tiff:3</td>\n      <td>4.444e-05</td>\n      <td>53.750</td>\n      <td>2.000e-03</td>\n      <td>215</td>\n    </tr>\n    <tr>\n      <th>4</th>\n      <td>5</td>\n      <td>Con_Mito_6.tiff:4</td>\n      <td>1.200e-02</td>\n      <td>41.963</td>\n      <td>4.900e-01</td>\n      <td>44061</td>\n    </tr>\n  </tbody>\n</table>\n</div>"
     },
     "execution_count": 24,
     "metadata": {},
     "output_type": "execute_result"
    }
   ],
   "source": [
    "excel_file_path = '../data/Per_Cell_MitoSox_Mean_Fluro_Results.xlsx'\n",
    "results_data = pd.read_excel(excel_file_path)\n",
    "results_data.head()"
   ],
   "metadata": {
    "collapsed": false,
    "pycharm": {
     "name": "#%%\n"
    }
   }
  },
  {
   "cell_type": "code",
   "execution_count": 25,
   "outputs": [
    {
     "data": {
      "text/plain": "(114189, 6)"
     },
     "execution_count": 25,
     "metadata": {},
     "output_type": "execute_result"
    }
   ],
   "source": [
    "# dropping null value columns to avoid errors\n",
    "results_data.dropna(inplace = True)\n",
    "results_data.shape"
   ],
   "metadata": {
    "collapsed": false,
    "pycharm": {
     "name": "#%%\n"
    }
   }
  },
  {
   "cell_type": "code",
   "execution_count": 26,
   "outputs": [
    {
     "data": {
      "text/plain": "<Figure size 432x288 with 1 Axes>",
      "image/png": "[encoded data removed]"
     },
     "metadata": {
      "needs_background": "light"
     },
     "output_type": "display_data"
    }
   ],
   "source": [
    "results_sorted = results_data.sort_values(['Label'], ascending=False)\n",
    "# results_sorted['Count'].head(10).plot(kind='barh')\n",
    "results_sorted['Mean'].plot(kind='hist')\n",
    "plt.show()"
   ],
   "metadata": {
    "collapsed": false,
    "pycharm": {
     "name": "#%%\n"
    }
   }
  },
  {
   "cell_type": "code",
   "execution_count": 27,
   "outputs": [
    {
     "data": {
      "text/plain": "                        Area        Mean     IntDen  RawIntDen\ncount  114189.000  1.142e+05  114189.000  1.142e+05  1.142e+05\nmean    57095.000  4.402e-03      41.145  2.380e-01  2.142e+04\nstd     32963.669  1.560e-01       8.573  8.528e+00  7.676e+05\nmin         1.000  1.111e-05      17.000  1.889e-04  1.700e+01\n25%     28548.000  1.111e-05      35.000  5.222e-04  4.700e+01\n50%     57095.000  4.444e-05      39.933  2.000e-03  1.770e+02\n75%     85642.000  3.556e-04      46.000  1.400e-02  1.269e+03\nmax    114189.000  4.044e+01      97.000  2.157e+03  1.942e+08",
      "text/html": "<div>\n<style scoped>\n    .dataframe tbody tr th:only-of-type {\n        vertical-align: middle;\n    }\n\n    .dataframe tbody tr th {\n        vertical-align: top;\n    }\n\n    .dataframe thead th {\n        text-align: right;\n    }\n</style>\n<table border=\"1\" class=\"dataframe\">\n  <thead>\n    <tr style=\"text-align: right;\">\n      <th></th>\n      <th></th>\n      <th>Area</th>\n      <th>Mean</th>\n      <th>IntDen</th>\n      <th>RawIntDen</th>\n    </tr>\n  </thead>\n  <tbody>\n    <tr>\n      <th>count</th>\n      <td>114189.000</td>\n      <td>1.142e+05</td>\n      <td>114189.000</td>\n      <td>1.142e+05</td>\n      <td>1.142e+05</td>\n    </tr>\n    <tr>\n      <th>mean</th>\n      <td>57095.000</td>\n      <td>4.402e-03</td>\n      <td>41.145</td>\n      <td>2.380e-01</td>\n      <td>2.142e+04</td>\n    </tr>\n    <tr>\n      <th>std</th>\n      <td>32963.669</td>\n      <td>1.560e-01</td>\n      <td>8.573</td>\n      <td>8.528e+00</td>\n      <td>7.676e+05</td>\n    </tr>\n    <tr>\n      <th>min</th>\n      <td>1.000</td>\n      <td>1.111e-05</td>\n      <td>17.000</td>\n      <td>1.889e-04</td>\n      <td>1.700e+01</td>\n    </tr>\n    <tr>\n      <th>25%</th>\n      <td>28548.000</td>\n      <td>1.111e-05</td>\n      <td>35.000</td>\n      <td>5.222e-04</td>\n      <td>4.700e+01</td>\n    </tr>\n    <tr>\n      <th>50%</th>\n      <td>57095.000</td>\n      <td>4.444e-05</td>\n      <td>39.933</td>\n      <td>2.000e-03</td>\n      <td>1.770e+02</td>\n    </tr>\n    <tr>\n      <th>75%</th>\n      <td>85642.000</td>\n      <td>3.556e-04</td>\n      <td>46.000</td>\n      <td>1.400e-02</td>\n      <td>1.269e+03</td>\n    </tr>\n    <tr>\n      <th>max</th>\n      <td>114189.000</td>\n      <td>4.044e+01</td>\n      <td>97.000</td>\n      <td>2.157e+03</td>\n      <td>1.942e+08</td>\n    </tr>\n  </tbody>\n</table>\n</div>"
     },
     "execution_count": 27,
     "metadata": {},
     "output_type": "execute_result"
    }
   ],
   "source": [
    "results_data.describe()\n"
   ],
   "metadata": {
    "collapsed": false,
    "pycharm": {
     "name": "#%%\n"
    }
   }
  },
  {
   "cell_type": "code",
   "execution_count": 28,
   "outputs": [
    {
     "data": {
      "text/plain": "      id ordinal\n0  Con_6       0\n1  Con_6       1\n2  Con_6       2\n3  Con_6       3\n4  Con_6       4",
      "text/html": "<div>\n<style scoped>\n    .dataframe tbody tr th:only-of-type {\n        vertical-align: middle;\n    }\n\n    .dataframe tbody tr th {\n        vertical-align: top;\n    }\n\n    .dataframe thead th {\n        text-align: right;\n    }\n</style>\n<table border=\"1\" class=\"dataframe\">\n  <thead>\n    <tr style=\"text-align: right;\">\n      <th></th>\n      <th>id</th>\n      <th>ordinal</th>\n    </tr>\n  </thead>\n  <tbody>\n    <tr>\n      <th>0</th>\n      <td>Con_6</td>\n      <td>0</td>\n    </tr>\n    <tr>\n      <th>1</th>\n      <td>Con_6</td>\n      <td>1</td>\n    </tr>\n    <tr>\n      <th>2</th>\n      <td>Con_6</td>\n      <td>2</td>\n    </tr>\n    <tr>\n      <th>3</th>\n      <td>Con_6</td>\n      <td>3</td>\n    </tr>\n    <tr>\n      <th>4</th>\n      <td>Con_6</td>\n      <td>4</td>\n    </tr>\n  </tbody>\n</table>\n</div>"
     },
     "execution_count": 28,
     "metadata": {},
     "output_type": "execute_result"
    }
   ],
   "source": [
    "split_label = results_data['Label'].str.split(\":\", expand=True)\n",
    "split_label.columns = ['id', 'ordinal']\n",
    "split_label['id'] = split_label['id'].str.replace('C1-','').str.replace('C2-','').str.replace('.tiff','').str.replace('.tif','').str.replace('_Mito', '')\n",
    "split_label.head()"
   ],
   "metadata": {
    "collapsed": false,
    "pycharm": {
     "name": "#%%\n"
    }
   }
  },
  {
   "cell_type": "code",
   "execution_count": 29,
   "outputs": [
    {
     "data": {
      "text/plain": "  condition replicate\n0       Con         6\n1       Con         6\n2       Con         6\n3       Con         6\n4       Con         6",
      "text/html": "<div>\n<style scoped>\n    .dataframe tbody tr th:only-of-type {\n        vertical-align: middle;\n    }\n\n    .dataframe tbody tr th {\n        vertical-align: top;\n    }\n\n    .dataframe thead th {\n        text-align: right;\n    }\n</style>\n<table border=\"1\" class=\"dataframe\">\n  <thead>\n    <tr style=\"text-align: right;\">\n      <th></th>\n      <th>condition</th>\n      <th>replicate</th>\n    </tr>\n  </thead>\n  <tbody>\n    <tr>\n      <th>0</th>\n      <td>Con</td>\n      <td>6</td>\n    </tr>\n    <tr>\n      <th>1</th>\n      <td>Con</td>\n      <td>6</td>\n    </tr>\n    <tr>\n      <th>2</th>\n      <td>Con</td>\n      <td>6</td>\n    </tr>\n    <tr>\n      <th>3</th>\n      <td>Con</td>\n      <td>6</td>\n    </tr>\n    <tr>\n      <th>4</th>\n      <td>Con</td>\n      <td>6</td>\n    </tr>\n  </tbody>\n</table>\n</div>"
     },
     "execution_count": 29,
     "metadata": {},
     "output_type": "execute_result"
    }
   ],
   "source": [
    "condition_label = split_label['id'].str.split(\"_\", expand=True)\n",
    "condition_label.columns = ['condition', 'replicate']\n",
    "condition_label.head()"
   ],
   "metadata": {
    "collapsed": false,
    "pycharm": {
     "name": "#%%\n"
    }
   }
  },
  {
   "cell_type": "code",
   "execution_count": 30,
   "outputs": [
    {
     "data": {
      "text/plain": "                  Label       Area    Mean     IntDen  RawIntDen     id ordinal\n0  1  Con_Mito_6.tiff:0  1.222e-04  39.000  5.000e-03        429  Con_6       0\n1  2  Con_Mito_6.tiff:1  2.222e-05  30.000  6.667e-04         60  Con_6       1\n2  3  Con_Mito_6.tiff:2  9.000e-02  56.402  5.080e+00     457192  Con_6       2\n3  4  Con_Mito_6.tiff:3  4.444e-05  53.750  2.000e-03        215  Con_6       3\n4  5  Con_Mito_6.tiff:4  1.200e-02  41.963  4.900e-01      44061  Con_6       4",
      "text/html": "<div>\n<style scoped>\n    .dataframe tbody tr th:only-of-type {\n        vertical-align: middle;\n    }\n\n    .dataframe tbody tr th {\n        vertical-align: top;\n    }\n\n    .dataframe thead th {\n        text-align: right;\n    }\n</style>\n<table border=\"1\" class=\"dataframe\">\n  <thead>\n    <tr style=\"text-align: right;\">\n      <th></th>\n      <th></th>\n      <th>Label</th>\n      <th>Area</th>\n      <th>Mean</th>\n      <th>IntDen</th>\n      <th>RawIntDen</th>\n      <th>id</th>\n      <th>ordinal</th>\n    </tr>\n  </thead>\n  <tbody>\n    <tr>\n      <th>0</th>\n      <td>1</td>\n      <td>Con_Mito_6.tiff:0</td>\n      <td>1.222e-04</td>\n      <td>39.000</td>\n      <td>5.000e-03</td>\n      <td>429</td>\n      <td>Con_6</td>\n      <td>0</td>\n    </tr>\n    <tr>\n      <th>1</th>\n      <td>2</td>\n      <td>Con_Mito_6.tiff:1</td>\n      <td>2.222e-05</td>\n      <td>30.000</td>\n      <td>6.667e-04</td>\n      <td>60</td>\n      <td>Con_6</td>\n      <td>1</td>\n    </tr>\n    <tr>\n      <th>2</th>\n      <td>3</td>\n      <td>Con_Mito_6.tiff:2</td>\n      <td>9.000e-02</td>\n      <td>56.402</td>\n      <td>5.080e+00</td>\n      <td>457192</td>\n      <td>Con_6</td>\n      <td>2</td>\n    </tr>\n    <tr>\n      <th>3</th>\n      <td>4</td>\n      <td>Con_Mito_6.tiff:3</td>\n      <td>4.444e-05</td>\n      <td>53.750</td>\n      <td>2.000e-03</td>\n      <td>215</td>\n      <td>Con_6</td>\n      <td>3</td>\n    </tr>\n    <tr>\n      <th>4</th>\n      <td>5</td>\n      <td>Con_Mito_6.tiff:4</td>\n      <td>1.200e-02</td>\n      <td>41.963</td>\n      <td>4.900e-01</td>\n      <td>44061</td>\n      <td>Con_6</td>\n      <td>4</td>\n    </tr>\n  </tbody>\n</table>\n</div>"
     },
     "execution_count": 30,
     "metadata": {},
     "output_type": "execute_result"
    }
   ],
   "source": [
    "results_data['id'] = split_label['id']\n",
    "results_data['ordinal'] = split_label['ordinal']\n",
    "results_data.head()"
   ],
   "metadata": {
    "collapsed": false,
    "pycharm": {
     "name": "#%%\n"
    }
   }
  },
  {
   "cell_type": "code",
   "execution_count": 31,
   "outputs": [
    {
     "data": {
      "text/plain": "                  Label       Area    Mean     IntDen  RawIntDen     id ordinal condition replicate\n0  1  Con_Mito_6.tiff:0  1.222e-04  39.000  5.000e-03        429  Con_6       0       Con         6\n1  2  Con_Mito_6.tiff:1  2.222e-05  30.000  6.667e-04         60  Con_6       1       Con         6\n2  3  Con_Mito_6.tiff:2  9.000e-02  56.402  5.080e+00     457192  Con_6       2       Con         6\n3  4  Con_Mito_6.tiff:3  4.444e-05  53.750  2.000e-03        215  Con_6       3       Con         6\n4  5  Con_Mito_6.tiff:4  1.200e-02  41.963  4.900e-01      44061  Con_6       4       Con         6",
      "text/html": "<div>\n<style scoped>\n    .dataframe tbody tr th:only-of-type {\n        vertical-align: middle;\n    }\n\n    .dataframe tbody tr th {\n        vertical-align: top;\n    }\n\n    .dataframe thead th {\n        text-align: right;\n    }\n</style>\n<table border=\"1\" class=\"dataframe\">\n  <thead>\n    <tr style=\"text-align: right;\">\n      <th></th>\n      <th></th>\n      <th>Label</th>\n      <th>Area</th>\n      <th>Mean</th>\n      <th>IntDen</th>\n      <th>RawIntDen</th>\n      <th>id</th>\n      <th>ordinal</th>\n      <th>condition</th>\n      <th>replicate</th>\n    </tr>\n  </thead>\n  <tbody>\n    <tr>\n      <th>0</th>\n      <td>1</td>\n      <td>Con_Mito_6.tiff:0</td>\n      <td>1.222e-04</td>\n      <td>39.000</td>\n      <td>5.000e-03</td>\n      <td>429</td>\n      <td>Con_6</td>\n      <td>0</td>\n      <td>Con</td>\n      <td>6</td>\n    </tr>\n    <tr>\n      <th>1</th>\n      <td>2</td>\n      <td>Con_Mito_6.tiff:1</td>\n      <td>2.222e-05</td>\n      <td>30.000</td>\n      <td>6.667e-04</td>\n      <td>60</td>\n      <td>Con_6</td>\n      <td>1</td>\n      <td>Con</td>\n      <td>6</td>\n    </tr>\n    <tr>\n      <th>2</th>\n      <td>3</td>\n      <td>Con_Mito_6.tiff:2</td>\n      <td>9.000e-02</td>\n      <td>56.402</td>\n      <td>5.080e+00</td>\n      <td>457192</td>\n      <td>Con_6</td>\n      <td>2</td>\n      <td>Con</td>\n      <td>6</td>\n    </tr>\n    <tr>\n      <th>3</th>\n      <td>4</td>\n      <td>Con_Mito_6.tiff:3</td>\n      <td>4.444e-05</td>\n      <td>53.750</td>\n      <td>2.000e-03</td>\n      <td>215</td>\n      <td>Con_6</td>\n      <td>3</td>\n      <td>Con</td>\n      <td>6</td>\n    </tr>\n    <tr>\n      <th>4</th>\n      <td>5</td>\n      <td>Con_Mito_6.tiff:4</td>\n      <td>1.200e-02</td>\n      <td>41.963</td>\n      <td>4.900e-01</td>\n      <td>44061</td>\n      <td>Con_6</td>\n      <td>4</td>\n      <td>Con</td>\n      <td>6</td>\n    </tr>\n  </tbody>\n</table>\n</div>"
     },
     "execution_count": 31,
     "metadata": {},
     "output_type": "execute_result"
    }
   ],
   "source": [
    "results_data['condition'] = condition_label['condition']\n",
    "results_data['replicate'] = condition_label['replicate']\n",
    "results_data.head()"
   ],
   "metadata": {
    "collapsed": false,
    "pycharm": {
     "name": "#%%\n"
    }
   }
  },
  {
   "cell_type": "code",
   "execution_count": 32,
   "outputs": [
    {
     "data": {
      "text/plain": "                    id ordinal    Mean                    description     condition replicate\n0                Con_6       0  39.000              Con_Mito_6.tiff:0           Con         6\n1                Con_6       1  30.000              Con_Mito_6.tiff:1           Con         6\n2                Con_6       2  56.402              Con_Mito_6.tiff:2           Con         6\n3                Con_6       3  53.750              Con_Mito_6.tiff:3           Con         6\n4                Con_6       4  41.963              Con_Mito_6.tiff:4           Con         6\n...                ...     ...     ...                            ...           ...       ...\n114184  Positive con_3    6322  36.200  Positive con_Mito_3.tiff:6322  Positive con         3\n114185  Positive con_3    6323  42.067  Positive con_Mito_3.tiff:6323  Positive con         3\n114186  Positive con_3    6324  36.500  Positive con_Mito_3.tiff:6324  Positive con         3\n114187  Positive con_3    6325  38.000  Positive con_Mito_3.tiff:6325  Positive con         3\n114188  Positive con_3    6326  37.000  Positive con_Mito_3.tiff:6326  Positive con         3\n\n[114189 rows x 6 columns]",
      "text/html": "<div>\n<style scoped>\n    .dataframe tbody tr th:only-of-type {\n        vertical-align: middle;\n    }\n\n    .dataframe tbody tr th {\n        vertical-align: top;\n    }\n\n    .dataframe thead th {\n        text-align: right;\n    }\n</style>\n<table border=\"1\" class=\"dataframe\">\n  <thead>\n    <tr style=\"text-align: right;\">\n      <th></th>\n      <th>id</th>\n      <th>ordinal</th>\n      <th>Mean</th>\n      <th>description</th>\n      <th>condition</th>\n      <th>replicate</th>\n    </tr>\n  </thead>\n  <tbody>\n    <tr>\n      <th>0</th>\n      <td>Con_6</td>\n      <td>0</td>\n      <td>39.000</td>\n      <td>Con_Mito_6.tiff:0</td>\n      <td>Con</td>\n      <td>6</td>\n    </tr>\n    <tr>\n      <th>1</th>\n      <td>Con_6</td>\n      <td>1</td>\n      <td>30.000</td>\n      <td>Con_Mito_6.tiff:1</td>\n      <td>Con</td>\n      <td>6</td>\n    </tr>\n    <tr>\n      <th>2</th>\n      <td>Con_6</td>\n      <td>2</td>\n      <td>56.402</td>\n      <td>Con_Mito_6.tiff:2</td>\n      <td>Con</td>\n      <td>6</td>\n    </tr>\n    <tr>\n      <th>3</th>\n      <td>Con_6</td>\n      <td>3</td>\n      <td>53.750</td>\n      <td>Con_Mito_6.tiff:3</td>\n      <td>Con</td>\n      <td>6</td>\n    </tr>\n    <tr>\n      <th>4</th>\n      <td>Con_6</td>\n      <td>4</td>\n      <td>41.963</td>\n      <td>Con_Mito_6.tiff:4</td>\n      <td>Con</td>\n      <td>6</td>\n    </tr>\n    <tr>\n      <th>...</th>\n      <td>...</td>\n      <td>...</td>\n      <td>...</td>\n      <td>...</td>\n      <td>...</td>\n      <td>...</td>\n    </tr>\n    <tr>\n      <th>114184</th>\n      <td>Positive con_3</td>\n      <td>6322</td>\n      <td>36.200</td>\n      <td>Positive con_Mito_3.tiff:6322</td>\n      <td>Positive con</td>\n      <td>3</td>\n    </tr>\n    <tr>\n      <th>114185</th>\n      <td>Positive con_3</td>\n      <td>6323</td>\n      <td>42.067</td>\n      <td>Positive con_Mito_3.tiff:6323</td>\n      <td>Positive con</td>\n      <td>3</td>\n    </tr>\n    <tr>\n      <th>114186</th>\n      <td>Positive con_3</td>\n      <td>6324</td>\n      <td>36.500</td>\n      <td>Positive con_Mito_3.tiff:6324</td>\n      <td>Positive con</td>\n      <td>3</td>\n    </tr>\n    <tr>\n      <th>114187</th>\n      <td>Positive con_3</td>\n      <td>6325</td>\n      <td>38.000</td>\n      <td>Positive con_Mito_3.tiff:6325</td>\n      <td>Positive con</td>\n      <td>3</td>\n    </tr>\n    <tr>\n      <th>114188</th>\n      <td>Positive con_3</td>\n      <td>6326</td>\n      <td>37.000</td>\n      <td>Positive con_Mito_3.tiff:6326</td>\n      <td>Positive con</td>\n      <td>3</td>\n    </tr>\n  </tbody>\n</table>\n<p>114189 rows × 6 columns</p>\n</div>"
     },
     "execution_count": 32,
     "metadata": {},
     "output_type": "execute_result"
    }
   ],
   "source": [
    "new_column_order = ['id', 'ordinal', 'Mean', 'Label', 'condition', 'replicate']\n",
    "results_data = results_data[new_column_order]\n",
    "results_data.rename(columns={'Count': 'nuclei_count', 'Label': 'description'}, inplace=True)\n",
    "results_data"
   ],
   "metadata": {
    "collapsed": false,
    "pycharm": {
     "name": "#%%\n"
    }
   }
  },
  {
   "cell_type": "code",
   "execution_count": 33,
   "outputs": [
    {
     "data": {
      "text/plain": "id\nCon_1             149425.830\nCon_2             186217.022\nCon_3             175710.845\nCon_4             145311.987\nCon_5             155651.473\nCon_6             161747.287\nPositive con_1    280203.338\nPositive con_2    196480.835\nPositive con_3    276452.696\nPositive con_4    197210.000\nPositive con_5    198843.542\nPositive con_6    192896.090\nTGFb2_1           225119.125\nTGFb2_2           232320.459\nTGFb2_3           192045.641\nTGFb2_4           223332.873\nTGFb2_5           230935.403\nTGFb2_6           193845.299\nTNFa_1             84905.269\nTNFa_2            236068.520\nTNFa_3            218465.037\nTNFa_4            123106.978\nTNFa_5            238092.490\nTNFa_6            183920.402\nName: Mean, dtype: float64"
     },
     "execution_count": 33,
     "metadata": {},
     "output_type": "execute_result"
    }
   ],
   "source": [
    "results_data.groupby('id')['Mean'].sum()"
   ],
   "metadata": {
    "collapsed": false,
    "pycharm": {
     "name": "#%%\n"
    }
   }
  },
  {
   "cell_type": "code",
   "execution_count": 34,
   "outputs": [
    {
     "data": {
      "text/plain": "id\nCon_1             34.986\nCon_2             36.780\nCon_3             34.780\nCon_4             34.897\nCon_5             34.884\nCon_6             39.654\nPositive con_1    42.098\nPositive con_2    52.283\nPositive con_3    43.694\nPositive con_4    52.942\nPositive con_5    51.688\nPositive con_6    50.483\nTGFb2_1           41.028\nTGFb2_2           40.530\nTGFb2_3           38.067\nTGFb2_4           40.139\nTGFb2_5           41.670\nTGFb2_6           40.250\nTNFa_1            39.564\nTNFa_2            41.292\nTNFa_3            41.700\nTNFa_4            38.664\nTNFa_5            42.058\nTNFa_6            38.071\nName: Mean, dtype: float64"
     },
     "execution_count": 34,
     "metadata": {},
     "output_type": "execute_result"
    }
   ],
   "source": [
    "results_fluoro_id_means = results_data.groupby('id')['Mean'].mean()\n",
    "results_fluoro_id_means"
   ],
   "metadata": {
    "collapsed": false,
    "pycharm": {
     "name": "#%%\n"
    }
   }
  },
  {
   "cell_type": "code",
   "execution_count": 35,
   "outputs": [
    {
     "data": {
      "text/plain": "condition\nCon             35.955\nPositive con    47.703\nTGFb2           40.316\nTNFa            40.502\nName: Mean, dtype: float64"
     },
     "execution_count": 35,
     "metadata": {},
     "output_type": "execute_result"
    }
   ],
   "source": [
    "result_fluoro_condition_means = results_data.groupby('condition')['Mean'].mean()\n",
    "result_fluoro_condition_means"
   ],
   "metadata": {
    "collapsed": false,
    "pycharm": {
     "name": "#%%\n"
    }
   }
  },
  {
   "cell_type": "code",
   "execution_count": 36,
   "outputs": [
    {
     "data": {
      "text/plain": "<Figure size 432x288 with 1 Axes>",
      "image/png": "[encoded data removed]"
     },
     "metadata": {
      "needs_background": "light"
     },
     "output_type": "display_data"
    }
   ],
   "source": [
    "results_data.groupby('condition')['Mean'].mean().plot(kind='hist')\n",
    "plt.show()"
   ],
   "metadata": {
    "collapsed": false,
    "pycharm": {
     "name": "#%%\n"
    }
   }
  },
  {
   "cell_type": "code",
   "execution_count": 37,
   "outputs": [
    {
     "data": {
      "text/plain": "47.703366069524606"
     },
     "execution_count": 37,
     "metadata": {},
     "output_type": "execute_result"
    }
   ],
   "source": [
    "results_data.groupby('condition')['Mean'].mean()[1]\n"
   ],
   "metadata": {
    "collapsed": false,
    "pycharm": {
     "name": "#%%\n"
    }
   }
  },
  {
   "cell_type": "code",
   "execution_count": 38,
   "outputs": [],
   "source": [
    "from openpyxl import load_workbook\n",
    "\n",
    "book = load_workbook(excel_file_path)\n",
    "excel_writer = pd.ExcelWriter(excel_file_path, engine='openpyxl')\n",
    "excel_writer.book = book\n",
    "\n",
    "results_data.to_excel(excel_writer, sheet_name= 'Data_Results')\n",
    "results_fluoro_id_means.to_excel(excel_writer, sheet_name= 'Fluoro_Id_Means')\n",
    "result_fluoro_condition_means.to_excel(excel_writer, sheet_name= 'Fluoro_Condition_Means')\n",
    "excel_writer.save()\n",
    "excel_writer.close()"
   ],
   "metadata": {
    "collapsed": false,
    "pycharm": {
     "name": "#%%\n"
    }
   }
  }
 ],
 "metadata": {
  "kernelspec": {
   "display_name": "Python 3",
   "language": "python",
   "name": "python3"
  },
  "language_info": {
   "codemirror_mode": {
    "name": "ipython",
    "version": 2
   },
   "file_extension": ".py",
   "mimetype": "text/x-python",
   "name": "python",
   "nbconvert_exporter": "python",
   "pygments_lexer": "ipython2",
   "version": "2.7.6"
  }
 },
 "nbformat": 4,
 "nbformat_minor": 0
}